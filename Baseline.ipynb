{
 "cells": [
  {
   "cell_type": "code",
   "execution_count": null,
   "metadata": {
    "id": "WIfpwrhDyhkv"
   },
   "outputs": [],
   "source": [
    "import pandas as pd\n",
    "import numpy as np\n",
    "\n",
    "import keras\n",
    "from keras.models import Sequential\n",
    "from keras.layers import Dense\n",
    "\n",
    "from sklearn.model_selection import train_test_split\n",
    "from sklearn.metrics import mean_squared_error"
   ]
  },
  {
   "cell_type": "code",
   "execution_count": null,
   "metadata": {
    "id": "VvW_WTe2zw6Y"
   },
   "outputs": [],
   "source": [
    "# Input Dataframe\n",
    "concrete_data = pd.read_csv(\"https://cocl.us/concrete_data\")"
   ]
  },
  {
   "cell_type": "code",
   "execution_count": null,
   "metadata": {
    "colab": {
     "base_uri": "https://localhost:8080/",
     "height": 206
    },
    "id": "e_obZhkG0JZv",
    "outputId": "c1e79083-47a4-498c-c099-f425da125e5c"
   },
   "outputs": [],
   "source": [
    "concrete_data.head()"
   ]
  },
  {
   "cell_type": "code",
   "execution_count": null,
   "metadata": {
    "id": "4piXW7pJ1cj3"
   },
   "outputs": [],
   "source": [
    "# Splitting the predictors and target from the Input dataframe\n",
    "predictors = concrete_data[concrete_data.columns[:-1]]\n",
    "target = concrete_data['Strength']\n",
    "\n",
    "n_cols = predictors.shape[1]"
   ]
  },
  {
   "cell_type": "code",
   "execution_count": null,
   "metadata": {
    "id": "2ptWmS1X0wS6"
   },
   "outputs": [],
   "source": [
    "# Regressor Neural Network\n",
    "\n",
    "def regressor():\n",
    "    model = Sequential()\n",
    "    model.add(Dense(10, activation='relu', input_shape=(n_cols,)))\n",
    "    model.add(Dense(1))\n",
    "\n",
    "    model.compile(optimizer='adam', loss = 'mean_squared_error')\n",
    "    return model"
   ]
  },
  {
   "cell_type": "markdown",
   "metadata": {},
   "source": [
    "# Step 1 - Randomly split the data into a training and test sets by holding 30% of the data for testing. You can use the train_test_splithelper function from Scikit-learn."
   ]
  },
  {
   "cell_type": "code",
   "execution_count": null,
   "metadata": {},
   "outputs": [],
   "source": [
    "# Train Test Split\n",
    "X_train, X_test, y_train, y_test = train_test_split(predictors, target, test_size=0.30)"
   ]
  },
  {
   "cell_type": "markdown",
   "metadata": {},
   "source": [
    "# Step 2 - Train the model on the training data using 50 epochs."
   ]
  },
  {
   "cell_type": "code",
   "execution_count": null,
   "metadata": {},
   "outputs": [],
   "source": [
    "# Initialising and Fitting the Model\n",
    "model = regressor()\n",
    "model.fit(X_train, y_train, epochs=50, verbose = 0)"
   ]
  },
  {
   "cell_type": "markdown",
   "metadata": {},
   "source": [
    "# Step 3 - Evaluate the model on the test data and compute the mean squared error between the predicted concrete strength and the actual concrete strength. You can use the mean_squared_error function from Scikit-learn."
   ]
  },
  {
   "cell_type": "code",
   "execution_count": null,
   "metadata": {},
   "outputs": [],
   "source": [
    "# Predicting and Calculating MSE\n",
    "y_pred = model.predict(X_test)\n",
    "mse = mean_squared_error(y_pred, y_test)\n",
    "\n",
    "print(\"Mean Squared Error is %f\"%(mse))"
   ]
  },
  {
   "cell_type": "markdown",
   "metadata": {},
   "source": [
    "# Step 4 - Repeat steps 1 - 3, 50 times, i.e., create a list of 50 mean squared errors."
   ]
  },
  {
   "cell_type": "code",
   "execution_count": null,
   "metadata": {
    "id": "Rk_mw8PZ2G45"
   },
   "outputs": [],
   "source": [
    "# Create a list of 50 Mean-Squared-Errors\n",
    "\n",
    "mse_list = []\n",
    "for i in range(50):\n",
    "    # Train Test Split\n",
    "    X_train, X_test, y_train, y_test = train_test_split(predictors, target, test_size=0.30)\n",
    "\n",
    "    # Initialising and Fitting the Model\n",
    "    model = regressor()\n",
    "    model.fit(X_train, y_train, epochs=50, verbose = 0)\n",
    "\n",
    "    # Predicting and Calculating MSE\n",
    "    y_pred = model.predict(X_test)\n",
    "    mse = mean_squared_error(y_test, y_pred)\n",
    "\n",
    "    # Append mse to the list\n",
    "    mse_list.append(mse)"
   ]
  },
  {
   "cell_type": "markdown",
   "metadata": {},
   "source": [
    "# Step 5 - Report the mean and the standard deviation of the mean squared errors."
   ]
  },
  {
   "cell_type": "code",
   "execution_count": null,
   "metadata": {
    "id": "5zk5Gh9q4HDD"
   },
   "outputs": [],
   "source": [
    "# Mean and Standard deviation of Mean_Squared_Error \n",
    "\n",
    "mean = round(sum(mse_list) / len(mse_list), 2)\n",
    "variance = sum([((x - mean) ** 2) for x in mse_list]) / len(mse_list)\n",
    "std = round(variance ** 0.5, 2)\n",
    "\n",
    "print(\"Mean and Standard Deviation are %f and %f respectively\"%(mean, std))"
   ]
  },
  {
   "cell_type": "markdown",
   "metadata": {},
   "source": [
    "# Mean is 262.29"
   ]
  }
 ],
 "metadata": {
  "colab": {
   "name": "baseline.ipynb",
   "provenance": []
  },
  "kernelspec": {
   "display_name": "Python 3 (ipykernel)",
   "language": "python",
   "name": "python3"
  },
  "language_info": {
   "codemirror_mode": {
    "name": "ipython",
    "version": 3
   },
   "file_extension": ".py",
   "mimetype": "text/x-python",
   "name": "python",
   "nbconvert_exporter": "python",
   "pygments_lexer": "ipython3",
   "version": "3.8.2"
  }
 },
 "nbformat": 4,
 "nbformat_minor": 1
}
